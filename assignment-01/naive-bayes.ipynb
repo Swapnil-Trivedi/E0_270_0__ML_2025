{
 "cells": [
  {
   "cell_type": "code",
   "execution_count": 17,
   "metadata": {},
   "outputs": [],
   "source": [
    "import matplotlib.pyplot as plt\n",
    "from sklearn.naive_bayes import GaussianNB\n",
    "from sklearn.metrics import accuracy_score, classification_report, confusion_matrix,roc_auc_score\n",
    "import seaborn as sns\n",
    "#importing the custome data handler\n",
    "from data_handler.data_handler import DataHandler\n",
    "from grid_search import *\n",
    "from bayes_search import *"
   ]
  },
  {
   "cell_type": "code",
   "execution_count": 18,
   "metadata": {},
   "outputs": [],
   "source": [
    "class NaiveBayesClassifier:\n",
    "    def __init__(self,var_smooth=1e-9):\n",
    "        self.data_handler = DataHandler()\n",
    "        self.var_smooth=var_smooth\n",
    "        self.model=GaussianNB(var_smoothing=self.var_smooth)\n",
    "    #loads the training data from the data handler as features and targets from the cleaned training data\n",
    "    def load_train_data(self):\n",
    "        print(\"Splitting training data into features and target variables\")\n",
    "        self.train_features,self.train_targets = self.data_handler.split_data(self.data_handler.train_data)\n",
    "    \n",
    "    #loads the validation data from the data handler as features and targets from the cleaned validation data\n",
    "    def load_validation_data(self):\n",
    "        print(\"Splitting validation data into features and target variables\")\n",
    "        self.validation_features,self.validation_targets = self.data_handler.split_data(self.data_handler.validation_data)\n",
    "    \n",
    "    #loads the test data from the data handler as features and targets from the cleaned test data\n",
    "    def load_test_data(self):\n",
    "        print(\"Splitting testing data into features and target variables\")\n",
    "        self.test_features,self.test_targets = self.data_handler.split_data(self.data_handler.test_data)\n",
    "    \n",
    "    #trains the model on the training data\n",
    "    def train(self):\n",
    "        print(\"Training the model with training data set\")\n",
    "        self.model.fit(self.train_features,self.train_targets)\n",
    "    \n",
    "    #predict the target for given features and returns the predicted targets use to predict the test data\n",
    "    def predict(self,features):\n",
    "        print(\"Predicting target varaibles using the features provided\")\n",
    "        return self.model.predict(features)\n",
    "    \n",
    "    #evaluates the model on the validation data\n",
    "    def evaluate(self,DataFlag=\"Validation\"):\n",
    "        print(\"Evaluating the model's performance for {} dataset\".format(DataFlag))\n",
    "        if DataFlag==\"Validation\":\n",
    "            features = self.validation_features\n",
    "            targets = self.validation_targets\n",
    "        elif DataFlag==\"Test\":\n",
    "            features = self.test_features\n",
    "            targets = self.test_targets\n",
    "        predictions = self.predict(features)\n",
    "        print(\"Accuracy: \",accuracy_score(targets,predictions))\n",
    "        print(\"Classification Report: \\n\",classification_report(targets,predictions))\n",
    "        print(\"Confusion Matrix: \\n\",confusion_matrix(targets,predictions))\n",
    "        print(\"Roc Score : \",roc_auc_score(targets,predictions))\n",
    "        self.plot_confusion_matrix(targets,predictions,DataFlag)\n",
    "    \n",
    "\n",
    "    #plot confusion matrix\n",
    "    def plot_confusion_matrix(self,targets,predictions,dataFlag):\n",
    "        cm = confusion_matrix(targets, predictions) \n",
    "        plt.figure(figsize=(6, 5))\n",
    "        sns.heatmap(cm, annot=True, fmt='d', cmap='Blues', xticklabels=[\"Survived\", \"Died\"], yticklabels=[\"Survived\", \"Died\"])\n",
    "        plt.xlabel(\"Predicted Label\")\n",
    "        plt.ylabel(\"True Label\")\n",
    "        plt.title(\"Confusion Matrix for {} data\".format(dataFlag))\n",
    "        plt.show()\n",
    "    "
   ]
  },
  {
   "cell_type": "code",
   "execution_count": 19,
   "metadata": {},
   "outputs": [
    {
     "name": "stdout",
     "output_type": "stream",
     "text": [
      "Splitting training data into features and target variables\n",
      "Splitting testing data into features and target variables\n",
      "Splitting validation data into features and target variables\n"
     ]
    }
   ],
   "source": [
    "nb=NaiveBayesClassifier()\n",
    "nb.load_train_data()\n",
    "nb.load_test_data()\n",
    "nb.load_validation_data()"
   ]
  },
  {
   "cell_type": "code",
   "execution_count": 20,
   "metadata": {},
   "outputs": [
    {
     "name": "stdout",
     "output_type": "stream",
     "text": [
      "Training the model with training data set\n"
     ]
    }
   ],
   "source": [
    "nb.train()"
   ]
  },
  {
   "cell_type": "code",
   "execution_count": 21,
   "metadata": {},
   "outputs": [
    {
     "name": "stdout",
     "output_type": "stream",
     "text": [
      "Evaluating the model's performance for Validation dataset\n",
      "Predicting target varaibles using the features provided\n",
      "Accuracy:  0.8089887640449438\n",
      "Classification Report: \n",
      "               precision    recall  f1-score   support\n",
      "\n",
      "           0       0.87      0.83      0.85        58\n",
      "           1       0.71      0.77      0.74        31\n",
      "\n",
      "    accuracy                           0.81        89\n",
      "   macro avg       0.79      0.80      0.79        89\n",
      "weighted avg       0.81      0.81      0.81        89\n",
      "\n",
      "Confusion Matrix: \n",
      " [[48 10]\n",
      " [ 7 24]]\n",
      "Roc Score :  0.8008898776418243\n"
     ]
    },
    {
     "data": {
      "image/png": "[encoded data removed]",
      "text/plain": [
       "<Figure size 432x360 with 2 Axes>"
      ]
     },
     "metadata": {
      "needs_background": "light"
     },
     "output_type": "display_data"
    }
   ],
   "source": [
    "nb.evaluate(DataFlag=\"Validation\")"
   ]
  },
  {
   "cell_type": "code",
   "execution_count": 22,
   "metadata": {},
   "outputs": [
    {
     "name": "stdout",
     "output_type": "stream",
     "text": [
      "Evaluating the model's performance for Test dataset\n",
      "Predicting target varaibles using the features provided\n",
      "Accuracy:  0.7359550561797753\n",
      "Classification Report: \n",
      "               precision    recall  f1-score   support\n",
      "\n",
      "           0       0.80      0.75      0.78       109\n",
      "           1       0.64      0.71      0.68        69\n",
      "\n",
      "    accuracy                           0.74       178\n",
      "   macro avg       0.72      0.73      0.73       178\n",
      "weighted avg       0.74      0.74      0.74       178\n",
      "\n",
      "Confusion Matrix: \n",
      " [[82 27]\n",
      " [20 49]]\n",
      "Roc Score :  0.7312192527589416\n"
     ]
    },
    {
     "data": {
      "image/png": "[encoded data removed]",
      "text/plain": [
       "<Figure size 432x360 with 2 Axes>"
      ]
     },
     "metadata": {
      "needs_background": "light"
     },
     "output_type": "display_data"
    }
   ],
   "source": [
    "nb.evaluate(DataFlag=\"Test\")"
   ]
  },
  {
   "cell_type": "code",
   "execution_count": 23,
   "metadata": {},
   "outputs": [
    {
     "name": "stdout",
     "output_type": "stream",
     "text": [
      "Best parameters: {'var_smoothing': 1e-05}\n"
     ]
    }
   ],
   "source": [
    "gs=GridSearch()\n",
    "gs_result=gs.tune_naive_bayes_classifier(nb.model,nb.validation_features,nb.validation_targets)"
   ]
  },
  {
   "cell_type": "code",
   "execution_count": 24,
   "metadata": {},
   "outputs": [
    {
     "name": "stdout",
     "output_type": "stream",
     "text": [
      "Best Params: OrderedDict([('var_smoothing', 0.0034515451516900276)])\n",
      "Best Validation Accuracy: 0.7503267973856209\n",
      "Grid Search Result : {'var_smoothing': 1e-05}\n",
      "Bayesian Search Result : GaussianNB(var_smoothing=0.0034515451516900276)\n"
     ]
    }
   ],
   "source": [
    "bs=BayesianSearch()\n",
    "bs_result=bs.tune_naive_bayes_classifier(nb.model,nb.validation_features,nb.validation_targets)\n",
    "\n",
    "print(\"Grid Search Result : {0}\\nBayesian Search Result : {1}\".format(gs_result,bs_result))"
   ]
  },
  {
   "cell_type": "code",
   "execution_count": 25,
   "metadata": {},
   "outputs": [
    {
     "name": "stdout",
     "output_type": "stream",
     "text": [
      "Splitting training data into features and target variables\n",
      "Splitting testing data into features and target variables\n",
      "Splitting validation data into features and target variables\n"
     ]
    }
   ],
   "source": [
    "nb_optimized=NaiveBayesClassifier(var_smooth=0.0034515451516900276)\n",
    "nb_optimized.load_train_data()\n",
    "nb_optimized.load_test_data()\n",
    "nb_optimized.load_validation_data()"
   ]
  },
  {
   "cell_type": "code",
   "execution_count": 26,
   "metadata": {},
   "outputs": [
    {
     "name": "stdout",
     "output_type": "stream",
     "text": [
      "Training the model with training data set\n"
     ]
    }
   ],
   "source": [
    "nb_optimized.train()"
   ]
  },
  {
   "cell_type": "code",
   "execution_count": 27,
   "metadata": {},
   "outputs": [
    {
     "name": "stdout",
     "output_type": "stream",
     "text": [
      "Evaluating the model's performance for Validation dataset\n",
      "Predicting target varaibles using the features provided\n",
      "Accuracy:  0.8089887640449438\n",
      "Classification Report: \n",
      "               precision    recall  f1-score   support\n",
      "\n",
      "           0       0.87      0.83      0.85        58\n",
      "           1       0.71      0.77      0.74        31\n",
      "\n",
      "    accuracy                           0.81        89\n",
      "   macro avg       0.79      0.80      0.79        89\n",
      "weighted avg       0.81      0.81      0.81        89\n",
      "\n",
      "Confusion Matrix: \n",
      " [[48 10]\n",
      " [ 7 24]]\n",
      "Roc Score :  0.8008898776418243\n"
     ]
    },
    {
     "data": {
      "image/png": "[encoded data removed]",
      "text/plain": [
       "<Figure size 432x360 with 2 Axes>"
      ]
     },
     "metadata": {
      "needs_background": "light"
     },
     "output_type": "display_data"
    }
   ],
   "source": [
    "nb_optimized.evaluate(\"Validation\")"
   ]
  },
  {
   "cell_type": "code",
   "execution_count": 28,
   "metadata": {},
   "outputs": [
    {
     "name": "stdout",
     "output_type": "stream",
     "text": [
      "Evaluating the model's performance for Test dataset\n",
      "Predicting target varaibles using the features provided\n",
      "Accuracy:  0.7359550561797753\n",
      "Classification Report: \n",
      "               precision    recall  f1-score   support\n",
      "\n",
      "           0       0.79      0.77      0.78       109\n",
      "           1       0.65      0.68      0.67        69\n",
      "\n",
      "    accuracy                           0.74       178\n",
      "   macro avg       0.72      0.73      0.72       178\n",
      "weighted avg       0.74      0.74      0.74       178\n",
      "\n",
      "Confusion Matrix: \n",
      " [[84 25]\n",
      " [22 47]]\n",
      "Roc Score :  0.7259008110623587\n"
     ]
    },
    {
     "data": {
      "image/png": "[encoded data removed]",
      "text/plain": [
       "<Figure size 432x360 with 2 Axes>"
      ]
     },
     "metadata": {
      "needs_background": "light"
     },
     "output_type": "display_data"
    }
   ],
   "source": [
    "nb_optimized.evaluate(\"Test\")"
   ]
  }
 ],
 "metadata": {
  "kernelspec": {
   "display_name": "base",
   "language": "python",
   "name": "python3"
  },
  "language_info": {
   "codemirror_mode": {
    "name": "ipython",
    "version": 3
   },
   "file_extension": ".py",
   "mimetype": "text/x-python",
   "name": "python",
   "nbconvert_exporter": "python",
   "pygments_lexer": "ipython3",
   "version": "3.9.7"
  }
 },
 "nbformat": 4,
 "nbformat_minor": 2
}
