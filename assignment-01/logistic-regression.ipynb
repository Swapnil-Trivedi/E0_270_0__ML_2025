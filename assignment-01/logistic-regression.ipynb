{
 "cells": [
  {
   "cell_type": "code",
   "execution_count": 27,
   "metadata": {},
   "outputs": [],
   "source": [
    "import matplotlib.pyplot as plt\n",
    "from sklearn.linear_model import LogisticRegression\n",
    "from sklearn.metrics import accuracy_score, classification_report, confusion_matrix,roc_auc_score\n",
    "import seaborn as sns\n",
    "#importing the custome data handler\n",
    "from data_handler.data_handler import DataHandler\n",
    "from grid_search import *\n",
    "from bayes_search import *\n",
    "\n"
   ]
  },
  {
   "cell_type": "code",
   "execution_count": 28,
   "metadata": {},
   "outputs": [],
   "source": [
    "class LogisticRegressionClassifier:\n",
    "    def __init__(self,c=0.1,penalty=\"l1\",solver=\"saga\"):\n",
    "        self.data_handler = DataHandler()\n",
    "        self.c=c\n",
    "        self.penalty=penalty\n",
    "        self.solver=solver\n",
    "        self.model=LogisticRegression(random_state=42,solver=self.solver,C=self.c,penalty=self.penalty,max_iter=701)\n",
    "    #loads the training data from the data handler as features and targets from the cleaned training data\n",
    "    def load_train_data(self):\n",
    "        print(\"Splitting training data into features and target variables\")\n",
    "        self.train_features,self.train_targets = self.data_handler.split_data(self.data_handler.train_data)\n",
    "    \n",
    "    #loads the validation data from the data handler as features and targets from the cleaned validation data\n",
    "    def load_validation_data(self):\n",
    "        print(\"Splitting validation data into features and target variables\")\n",
    "        self.validation_features,self.validation_targets = self.data_handler.split_data(self.data_handler.validation_data)\n",
    "    \n",
    "    #loads the test data from the data handler as features and targets from the cleaned test data\n",
    "    def load_test_data(self):\n",
    "        print(\"Splitting testing data into features and target variables\")\n",
    "        self.test_features,self.test_targets = self.data_handler.split_data(self.data_handler.test_data)\n",
    "    \n",
    "    #trains the model on the training data\n",
    "    def train(self):\n",
    "        print(\"Training the model with training data set\")\n",
    "        self.model.fit(self.train_features,self.train_targets)\n",
    "    \n",
    "    #predict the target for given features and returns the predicted targets use to predict the test data\n",
    "    def predict(self,features):\n",
    "        print(\"Predicting target varaibles using the features provided\")\n",
    "        return self.model.predict(features)\n",
    "    \n",
    "    #evaluates the model on the validation data\n",
    "    def evaluate(self,DataFlag=\"Validation\"):\n",
    "        print(\"Evaluating the model's performance for {} dataset\".format(DataFlag))\n",
    "        if DataFlag==\"Validation\":\n",
    "            features = self.validation_features\n",
    "            targets = self.validation_targets\n",
    "        elif DataFlag==\"Test\":\n",
    "            features = self.test_features\n",
    "            targets = self.test_targets\n",
    "        predictions = self.predict(features)\n",
    "        print(\"Accuracy: \",accuracy_score(targets,predictions))\n",
    "        print(\"Classification Report: \\n\",classification_report(targets,predictions))\n",
    "        print(\"Confusion Matrix: \\n\",confusion_matrix(targets,predictions))\n",
    "        print(\"Roc Score : \",roc_auc_score(targets,predictions))\n",
    "        self.plot_confusion_matrix(targets,predictions,DataFlag)\n",
    "    \n",
    "\n",
    "    #plot confusion matrix\n",
    "    def plot_confusion_matrix(self,targets,predictions,dataFlag):\n",
    "        cm = confusion_matrix(targets, predictions) \n",
    "        plt.figure(figsize=(6, 5))\n",
    "        sns.heatmap(cm, annot=True, fmt='d', cmap='Blues', xticklabels=[\"Survived\", \"Died\"], yticklabels=[\"Survived\", \"Died\"])\n",
    "        plt.xlabel(\"Predicted Label\")\n",
    "        plt.ylabel(\"True Label\")\n",
    "        plt.title(\"Confusion Matrix for {} data\".format(dataFlag))\n",
    "        plt.show()\n",
    "    "
   ]
  },
  {
   "cell_type": "code",
   "execution_count": 29,
   "metadata": {},
   "outputs": [
    {
     "name": "stdout",
     "output_type": "stream",
     "text": [
      "Splitting training data into features and target variables\n",
      "Splitting testing data into features and target variables\n",
      "Splitting validation data into features and target variables\n"
     ]
    }
   ],
   "source": [
    "lr=LogisticRegressionClassifier()\n",
    "lr.load_train_data()\n",
    "lr.load_test_data()\n",
    "lr.load_validation_data()"
   ]
  },
  {
   "cell_type": "code",
   "execution_count": 30,
   "metadata": {},
   "outputs": [
    {
     "name": "stdout",
     "output_type": "stream",
     "text": [
      "Training the model with training data set\n"
     ]
    }
   ],
   "source": [
    "lr.train()"
   ]
  },
  {
   "cell_type": "code",
   "execution_count": 31,
   "metadata": {},
   "outputs": [
    {
     "name": "stdout",
     "output_type": "stream",
     "text": [
      "Evaluating the model's performance for Validation dataset\n",
      "Predicting target varaibles using the features provided\n",
      "Accuracy:  0.8089887640449438\n",
      "Classification Report: \n",
      "               precision    recall  f1-score   support\n",
      "\n",
      "           0       0.86      0.84      0.85        58\n",
      "           1       0.72      0.74      0.73        31\n",
      "\n",
      "    accuracy                           0.81        89\n",
      "   macro avg       0.79      0.79      0.79        89\n",
      "weighted avg       0.81      0.81      0.81        89\n",
      "\n",
      "Confusion Matrix: \n",
      " [[49  9]\n",
      " [ 8 23]]\n",
      "Roc Score :  0.7933815350389322\n"
     ]
    },
    {
     "data": {
      "image/png": "[encoded data removed]",
      "text/plain": [
       "<Figure size 432x360 with 2 Axes>"
      ]
     },
     "metadata": {
      "needs_background": "light"
     },
     "output_type": "display_data"
    }
   ],
   "source": [
    "lr.evaluate(DataFlag=\"Validation\")"
   ]
  },
  {
   "cell_type": "code",
   "execution_count": 32,
   "metadata": {},
   "outputs": [
    {
     "name": "stdout",
     "output_type": "stream",
     "text": [
      "Evaluating the model's performance for Test dataset\n",
      "Predicting target varaibles using the features provided\n",
      "Accuracy:  0.7865168539325843\n",
      "Classification Report: \n",
      "               precision    recall  f1-score   support\n",
      "\n",
      "           0       0.81      0.84      0.83       109\n",
      "           1       0.74      0.70      0.72        69\n",
      "\n",
      "    accuracy                           0.79       178\n",
      "   macro avg       0.78      0.77      0.77       178\n",
      "weighted avg       0.78      0.79      0.79       178\n",
      "\n",
      "Confusion Matrix: \n",
      " [[92 17]\n",
      " [21 48]]\n",
      "Roc Score :  0.769844435580375\n"
     ]
    },
    {
     "data": {
      "image/png": "[encoded data removed]",
      "text/plain": [
       "<Figure size 432x360 with 2 Axes>"
      ]
     },
     "metadata": {
      "needs_background": "light"
     },
     "output_type": "display_data"
    }
   ],
   "source": [
    "lr.evaluate(DataFlag=\"Test\")"
   ]
  },
  {
   "cell_type": "code",
   "execution_count": 33,
   "metadata": {},
   "outputs": [
    {
     "name": "stdout",
     "output_type": "stream",
     "text": [
      "Best Parameters: {'C': 10, 'max_iter': 700, 'penalty': 'l2', 'solver': 'liblinear'}\n",
      "Best Cross-Val Score: 0.807843137254902\n"
     ]
    },
    {
     "data": {
      "text/plain": [
       "({'C': 10, 'max_iter': 700, 'penalty': 'l2', 'solver': 'liblinear'},\n",
       " 0.807843137254902)"
      ]
     },
     "execution_count": 33,
     "metadata": {},
     "output_type": "execute_result"
    }
   ],
   "source": [
    "gs=GridSearch()\n",
    "gs.tune_logistic_regression(lr.model,lr.validation_features,lr.validation_targets)"
   ]
  },
  {
   "cell_type": "code",
   "execution_count": 34,
   "metadata": {},
   "outputs": [
    {
     "name": "stdout",
     "output_type": "stream",
     "text": [
      "Best Params: OrderedDict([('C', 0.3111875105434535), ('max_iter', 500), ('penalty', 'l1'), ('solver', 'liblinear')])\n",
      "Best Validation Accuracy: 0.8196078431372549\n"
     ]
    },
    {
     "data": {
      "text/plain": [
       "(OrderedDict([('C', 0.3111875105434535),\n",
       "              ('max_iter', 500),\n",
       "              ('penalty', 'l1'),\n",
       "              ('solver', 'liblinear')]),\n",
       " 0.8196078431372549)"
      ]
     },
     "execution_count": 34,
     "metadata": {},
     "output_type": "execute_result"
    }
   ],
   "source": [
    "bs=BayesianSearch(n_iter=50)\n",
    "bs.tune_logistic_regression(lr.model,lr.validation_features,lr.validation_targets)"
   ]
  },
  {
   "cell_type": "code",
   "execution_count": 35,
   "metadata": {},
   "outputs": [
    {
     "name": "stdout",
     "output_type": "stream",
     "text": [
      "Splitting training data into features and target variables\n",
      "Splitting validation data into features and target variables\n",
      "Splitting testing data into features and target variables\n"
     ]
    }
   ],
   "source": [
    "lr_optimized=LogisticRegressionClassifier(c=0.3111875105434535,penalty=\"l1\",solver=\"liblinear\")\n",
    "lr_optimized.load_train_data()\n",
    "lr_optimized.load_validation_data()\n",
    "lr_optimized.load_test_data()\n"
   ]
  },
  {
   "cell_type": "code",
   "execution_count": 36,
   "metadata": {},
   "outputs": [
    {
     "name": "stdout",
     "output_type": "stream",
     "text": [
      "Training the model with training data set\n"
     ]
    }
   ],
   "source": [
    "lr_optimized.train()"
   ]
  },
  {
   "cell_type": "code",
   "execution_count": 37,
   "metadata": {},
   "outputs": [
    {
     "name": "stdout",
     "output_type": "stream",
     "text": [
      "Evaluating the model's performance for Validation dataset\n",
      "Predicting target varaibles using the features provided\n",
      "Accuracy:  0.8426966292134831\n",
      "Classification Report: \n",
      "               precision    recall  f1-score   support\n",
      "\n",
      "           0       0.91      0.84      0.88        58\n",
      "           1       0.74      0.84      0.79        31\n",
      "\n",
      "    accuracy                           0.84        89\n",
      "   macro avg       0.83      0.84      0.83        89\n",
      "weighted avg       0.85      0.84      0.84        89\n",
      "\n",
      "Confusion Matrix: \n",
      " [[49  9]\n",
      " [ 5 26]]\n",
      "Roc Score :  0.8417686318131258\n"
     ]
    },
    {
     "data": {
      "image/png": "[encoded data removed]",
      "text/plain": [
       "<Figure size 432x360 with 2 Axes>"
      ]
     },
     "metadata": {
      "needs_background": "light"
     },
     "output_type": "display_data"
    }
   ],
   "source": [
    "lr_optimized.evaluate(DataFlag=\"Validation\")"
   ]
  },
  {
   "cell_type": "code",
   "execution_count": 38,
   "metadata": {},
   "outputs": [
    {
     "name": "stdout",
     "output_type": "stream",
     "text": [
      "Evaluating the model's performance for Test dataset\n",
      "Predicting target varaibles using the features provided\n",
      "Accuracy:  0.797752808988764\n",
      "Classification Report: \n",
      "               precision    recall  f1-score   support\n",
      "\n",
      "           0       0.83      0.84      0.84       109\n",
      "           1       0.75      0.72      0.74        69\n",
      "\n",
      "    accuracy                           0.80       178\n",
      "   macro avg       0.79      0.78      0.79       178\n",
      "weighted avg       0.80      0.80      0.80       178\n",
      "\n",
      "Confusion Matrix: \n",
      " [[92 17]\n",
      " [19 50]]\n",
      "Roc Score :  0.7843371892035634\n"
     ]
    },
    {
     "data": {
      "image/png": "[encoded data removed]",
      "text/plain": [
       "<Figure size 432x360 with 2 Axes>"
      ]
     },
     "metadata": {
      "needs_background": "light"
     },
     "output_type": "display_data"
    }
   ],
   "source": [
    "lr_optimized.evaluate(DataFlag=\"Test\")"
   ]
  },
  {
   "cell_type": "code",
   "execution_count": null,
   "metadata": {},
   "outputs": [],
   "source": []
  }
 ],
 "metadata": {
  "kernelspec": {
   "display_name": "base",
   "language": "python",
   "name": "python3"
  },
  "language_info": {
   "codemirror_mode": {
    "name": "ipython",
    "version": 3
   },
   "file_extension": ".py",
   "mimetype": "text/x-python",
   "name": "python",
   "nbconvert_exporter": "python",
   "pygments_lexer": "ipython3",
   "version": "3.9.7"
  }
 },
 "nbformat": 4,
 "nbformat_minor": 2
}
