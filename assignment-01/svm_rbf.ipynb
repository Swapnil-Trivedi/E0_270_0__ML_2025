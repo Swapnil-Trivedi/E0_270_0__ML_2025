{
 "cells": [
  {
   "cell_type": "code",
   "execution_count": 22,
   "metadata": {},
   "outputs": [],
   "source": [
    "import matplotlib.pyplot as plt\n",
    "from sklearn.svm import SVC\n",
    "from sklearn.metrics import accuracy_score, classification_report, confusion_matrix,roc_auc_score\n",
    "import seaborn as sns\n",
    "#importing the custome data handler\n",
    "from data_handler.data_handler import DataHandler\n",
    "from grid_search import *\n",
    "from bayes_search import *"
   ]
  },
  {
   "cell_type": "code",
   "execution_count": 23,
   "metadata": {},
   "outputs": [],
   "source": [
    "class RBFSVMClassifier:\n",
    "    def __init__(self,C=1,Kernel=\"rbf\",Gamma=1):\n",
    "        self.data_handler = DataHandler()\n",
    "        self.model=SVC(C=1,kernel=Kernel,gamma=Gamma)\n",
    "    #loads the training data from the data handler as features and targets from the cleaned training data\n",
    "    def load_train_data(self):\n",
    "        print(\"Splitting training data into features and target variables\")\n",
    "        self.train_features,self.train_targets = self.data_handler.split_data(self.data_handler.train_data)\n",
    "    \n",
    "    #loads the validation data from the data handler as features and targets from the cleaned validation data\n",
    "    def load_validation_data(self):\n",
    "        print(\"Splitting validation data into features and target variables\")\n",
    "        self.validation_features,self.validation_targets = self.data_handler.split_data(self.data_handler.validation_data)\n",
    "    \n",
    "    #loads the test data from the data handler as features and targets from the cleaned test data\n",
    "    def load_test_data(self):\n",
    "        print(\"Splitting testing data into features and target variables\")\n",
    "        self.test_features,self.test_targets = self.data_handler.split_data(self.data_handler.test_data)\n",
    "    \n",
    "    #trains the model on the training data\n",
    "    def train(self):\n",
    "        print(\"Training the model with training data set\")\n",
    "        self.model.fit(self.train_features,self.train_targets)\n",
    "    \n",
    "    #predict the target for given features and returns the predicted targets use to predict the test data\n",
    "    def predict(self,features):\n",
    "        print(\"Predicting target varaibles using the features provided\")\n",
    "        return self.model.predict(features)\n",
    "    \n",
    "    #evaluates the model on the validation data\n",
    "    def evaluate(self,DataFlag=\"Validation\"):\n",
    "        print(\"Evaluating the model's performance for {} dataset\".format(DataFlag))\n",
    "        if DataFlag==\"Validation\":\n",
    "            features = self.validation_features\n",
    "            targets = self.validation_targets\n",
    "        elif DataFlag==\"Test\":\n",
    "            features = self.test_features\n",
    "            targets = self.test_targets\n",
    "        predictions = self.predict(features)\n",
    "        print(\"Accuracy: \",accuracy_score(targets,predictions))\n",
    "        print(\"Classification Report: \\n\",classification_report(targets,predictions))\n",
    "        print(\"Confusion Matrix: \\n\",confusion_matrix(targets,predictions))\n",
    "        print(\"Roc Score : \",roc_auc_score(targets,predictions))\n",
    "        self.plot_confusion_matrix(targets,predictions,DataFlag)\n",
    "    \n",
    "\n",
    "    #plot confusion matrix\n",
    "    def plot_confusion_matrix(self,targets,predictions,dataFlag):\n",
    "        cm = confusion_matrix(targets, predictions) \n",
    "        plt.figure(figsize=(6, 5))\n",
    "        sns.heatmap(cm, annot=True, fmt='d', cmap='Blues', xticklabels=[\"Survived\", \"Died\"], yticklabels=[\"Survived\", \"Died\"])\n",
    "        plt.xlabel(\"Predicted Label\")\n",
    "        plt.ylabel(\"True Label\")\n",
    "        plt.title(\"Confusion Matrix for {} data\".format(dataFlag))\n",
    "        plt.show()\n",
    "    "
   ]
  },
  {
   "cell_type": "code",
   "execution_count": 24,
   "metadata": {},
   "outputs": [
    {
     "name": "stdout",
     "output_type": "stream",
     "text": [
      "Splitting training data into features and target variables\n",
      "Splitting validation data into features and target variables\n",
      "Splitting testing data into features and target variables\n"
     ]
    }
   ],
   "source": [
    "rbf_svm=RBFSVMClassifier()\n",
    "rbf_svm.load_train_data()\n",
    "rbf_svm.load_validation_data()\n",
    "rbf_svm.load_test_data()"
   ]
  },
  {
   "cell_type": "code",
   "execution_count": 25,
   "metadata": {},
   "outputs": [
    {
     "name": "stdout",
     "output_type": "stream",
     "text": [
      "Training the model with training data set\n"
     ]
    }
   ],
   "source": [
    "rbf_svm.train()"
   ]
  },
  {
   "cell_type": "code",
   "execution_count": 26,
   "metadata": {},
   "outputs": [
    {
     "name": "stdout",
     "output_type": "stream",
     "text": [
      "Evaluating the model's performance for Validation dataset\n",
      "Predicting target varaibles using the features provided\n",
      "Accuracy:  0.8089887640449438\n",
      "Classification Report: \n",
      "               precision    recall  f1-score   support\n",
      "\n",
      "           0       0.85      0.86      0.85        58\n",
      "           1       0.73      0.71      0.72        31\n",
      "\n",
      "    accuracy                           0.81        89\n",
      "   macro avg       0.79      0.79      0.79        89\n",
      "weighted avg       0.81      0.81      0.81        89\n",
      "\n",
      "Confusion Matrix: \n",
      " [[50  8]\n",
      " [ 9 22]]\n",
      "Roc Score :  0.78587319243604\n"
     ]
    },
    {
     "data": {
      "image/png": "[encoded data removed]",
      "text/plain": [
       "<Figure size 432x360 with 2 Axes>"
      ]
     },
     "metadata": {
      "needs_background": "light"
     },
     "output_type": "display_data"
    }
   ],
   "source": [
    "rbf_svm.evaluate(DataFlag=\"Validation\")"
   ]
  },
  {
   "cell_type": "code",
   "execution_count": 27,
   "metadata": {},
   "outputs": [
    {
     "name": "stdout",
     "output_type": "stream",
     "text": [
      "Evaluating the model's performance for Test dataset\n",
      "Predicting target varaibles using the features provided\n",
      "Accuracy:  0.7752808988764045\n",
      "Classification Report: \n",
      "               precision    recall  f1-score   support\n",
      "\n",
      "           0       0.80      0.84      0.82       109\n",
      "           1       0.73      0.67      0.70        69\n",
      "\n",
      "    accuracy                           0.78       178\n",
      "   macro avg       0.77      0.76      0.76       178\n",
      "weighted avg       0.77      0.78      0.77       178\n",
      "\n",
      "Confusion Matrix: \n",
      " [[92 17]\n",
      " [23 46]]\n",
      "Roc Score :  0.7553516819571865\n"
     ]
    },
    {
     "data": {
      "image/png": "[encoded data removed]",
      "text/plain": [
       "<Figure size 432x360 with 2 Axes>"
      ]
     },
     "metadata": {
      "needs_background": "light"
     },
     "output_type": "display_data"
    }
   ],
   "source": [
    "rbf_svm.evaluate(\"Test\")"
   ]
  },
  {
   "cell_type": "code",
   "execution_count": 28,
   "metadata": {},
   "outputs": [
    {
     "name": "stdout",
     "output_type": "stream",
     "text": [
      "Best Parameters: {'C': 1, 'gamma': 'scale'}\n",
      "Best Validation Accuracy: 0.7847222222222222\n"
     ]
    }
   ],
   "source": [
    "gs=GridSearch(cv=10)\n",
    "gs.tune_rbf_svm(rbf_svm.model,rbf_svm.validation_features,rbf_svm.validation_targets)"
   ]
  },
  {
   "cell_type": "code",
   "execution_count": 29,
   "metadata": {},
   "outputs": [
    {
     "name": "stdout",
     "output_type": "stream",
     "text": [
      "Final Best Parameters: OrderedDict([('C', 0.682099173373929), ('gamma', 0.11526571086243405)])\n",
      "Best Parameters: OrderedDict([('C', 0.682099173373929), ('gamma', 0.11526571086243405)])\n",
      "Best Validation Accuracy: 0.7856209150326798\n"
     ]
    },
    {
     "data": {
      "text/plain": [
       "OrderedDict([('C', 0.682099173373929), ('gamma', 0.11526571086243405)])"
      ]
     },
     "execution_count": 29,
     "metadata": {},
     "output_type": "execute_result"
    }
   ],
   "source": [
    "bs=BayesianSearch(n_iter=100)\n",
    "bs.tune_rbf_svm(rbf_svm.model,rbf_svm.validation_features,rbf_svm.validation_targets)"
   ]
  },
  {
   "cell_type": "code",
   "execution_count": 30,
   "metadata": {},
   "outputs": [
    {
     "name": "stdout",
     "output_type": "stream",
     "text": [
      "Splitting training data into features and target variables\n",
      "Splitting validation data into features and target variables\n",
      "Splitting testing data into features and target variables\n"
     ]
    }
   ],
   "source": [
    "rbf_svm_optimized=RBFSVMClassifier(C=0.5,Kernel=\"rbf\",Gamma=\"auto\")\n",
    "rbf_svm_optimized.load_train_data()\n",
    "rbf_svm_optimized.load_validation_data()\n",
    "rbf_svm_optimized.load_test_data()"
   ]
  },
  {
   "cell_type": "code",
   "execution_count": 31,
   "metadata": {},
   "outputs": [
    {
     "name": "stdout",
     "output_type": "stream",
     "text": [
      "Training the model with training data set\n"
     ]
    }
   ],
   "source": [
    "rbf_svm_optimized.train()"
   ]
  },
  {
   "cell_type": "code",
   "execution_count": 32,
   "metadata": {},
   "outputs": [
    {
     "name": "stdout",
     "output_type": "stream",
     "text": [
      "Evaluating the model's performance for Validation dataset\n",
      "Predicting target varaibles using the features provided\n",
      "Accuracy:  0.8202247191011236\n",
      "Classification Report: \n",
      "               precision    recall  f1-score   support\n",
      "\n",
      "           0       0.86      0.86      0.86        58\n",
      "           1       0.74      0.74      0.74        31\n",
      "\n",
      "    accuracy                           0.82        89\n",
      "   macro avg       0.80      0.80      0.80        89\n",
      "weighted avg       0.82      0.82      0.82        89\n",
      "\n",
      "Confusion Matrix: \n",
      " [[50  8]\n",
      " [ 8 23]]\n",
      "Roc Score :  0.8020022246941045\n"
     ]
    },
    {
     "data": {
      "image/png": "[encoded data removed]",
      "text/plain": [
       "<Figure size 432x360 with 2 Axes>"
      ]
     },
     "metadata": {
      "needs_background": "light"
     },
     "output_type": "display_data"
    }
   ],
   "source": [
    "rbf_svm_optimized.evaluate(DataFlag=\"Validation\")"
   ]
  },
  {
   "cell_type": "code",
   "execution_count": 33,
   "metadata": {},
   "outputs": [
    {
     "name": "stdout",
     "output_type": "stream",
     "text": [
      "Evaluating the model's performance for Test dataset\n",
      "Predicting target varaibles using the features provided\n",
      "Accuracy:  0.8146067415730337\n",
      "Classification Report: \n",
      "               precision    recall  f1-score   support\n",
      "\n",
      "           0       0.83      0.88      0.85       109\n",
      "           1       0.79      0.71      0.75        69\n",
      "\n",
      "    accuracy                           0.81       178\n",
      "   macro avg       0.81      0.80      0.80       178\n",
      "weighted avg       0.81      0.81      0.81       178\n",
      "\n",
      "Confusion Matrix: \n",
      " [[96 13]\n",
      " [20 49]]\n",
      "Roc Score :  0.7954394362451802\n"
     ]
    },
    {
     "data": {
      "image/png": "[encoded data removed]",
      "text/plain": [
       "<Figure size 432x360 with 2 Axes>"
      ]
     },
     "metadata": {
      "needs_background": "light"
     },
     "output_type": "display_data"
    }
   ],
   "source": [
    "rbf_svm_optimized.evaluate(DataFlag=\"Test\")"
   ]
  },
  {
   "cell_type": "code",
   "execution_count": null,
   "metadata": {},
   "outputs": [],
   "source": []
  }
 ],
 "metadata": {
  "kernelspec": {
   "display_name": "base",
   "language": "python",
   "name": "python3"
  },
  "language_info": {
   "codemirror_mode": {
    "name": "ipython",
    "version": 3
   },
   "file_extension": ".py",
   "mimetype": "text/x-python",
   "name": "python",
   "nbconvert_exporter": "python",
   "pygments_lexer": "ipython3",
   "version": "3.9.7"
  }
 },
 "nbformat": 4,
 "nbformat_minor": 2
}
