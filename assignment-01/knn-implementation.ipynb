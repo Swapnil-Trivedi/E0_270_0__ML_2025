{
 "cells": [
  {
   "cell_type": "code",
   "execution_count": 1,
   "metadata": {},
   "outputs": [],
   "source": [
    "#implementation of the KNN algorithm\n",
    "from sklearn.metrics import accuracy_score\n",
    "from sklearn.neighbors import KNeighborsClassifier\n",
    "from sklearn.metrics import classification_report\n",
    "from sklearn.metrics import confusion_matrix,roc_auc_score\n",
    "from sklearn.metrics import accuracy_score\n",
    "import matplotlib.pyplot as plt\n",
    "import seaborn as sns\n",
    "#importing the custome data handler\n",
    "from data_handler.data_handler import DataHandler\n",
    "from grid_search import *\n",
    "from bayes_search import *"
   ]
  },
  {
   "cell_type": "code",
   "execution_count": 2,
   "metadata": {},
   "outputs": [],
   "source": [
    "#class for the KNN algorithm\n",
    "class KNN():\n",
    "    def __init__(self,K=3,P=2,weight='distance'):\n",
    "        self.K=K \n",
    "        self.model = KNeighborsClassifier(n_neighbors=self.K,p=P,weights=weight)\n",
    "        self.data_handler = DataHandler()\n",
    "    \n",
    "    #loads the training data from the data handler as features and targets from the cleaned training data\n",
    "    def load_train_data(self):\n",
    "        self.train_features,self.train_targets = self.data_handler.split_data(self.data_handler.train_data)\n",
    "    \n",
    "    #loads the validation data from the data handler as features and targets from the cleaned validation data\n",
    "    def load_validation_data(self):\n",
    "        self.validation_features,self.validation_targets = self.data_handler.split_data(self.data_handler.validation_data)\n",
    "    \n",
    "    #loads the test data from the data handler as features and targets from the cleaned test data\n",
    "    def load_test_data(self):\n",
    "        self.test_features,self.test_targets = self.data_handler.split_data(self.data_handler.test_data)\n",
    "    \n",
    "    #trains the model on the training data\n",
    "    def train(self):\n",
    "        self.model.fit(self.train_features,self.train_targets)\n",
    "    \n",
    "    #predict the target for given features and returns the predicted targets use to predict the test data\n",
    "    def predict(self,features):\n",
    "        return self.model.predict(features)\n",
    "    \n",
    "    #evaluates the model on the validation data\n",
    "    def evaluate(self,DataFlag=\"Validation\"):\n",
    "        if DataFlag==\"Validation\":\n",
    "            features = self.validation_features\n",
    "            targets = self.validation_targets\n",
    "        elif DataFlag==\"Test\":\n",
    "            features = self.test_features\n",
    "            targets = self.test_targets\n",
    "        predictions = self.predict(features)\n",
    "        print(\"Accuracy: \",accuracy_score(targets,predictions))\n",
    "        print(\"Classification Report: \\n\",classification_report(targets,predictions))\n",
    "        print(\"Confusion Matrix: \\n\",confusion_matrix(targets,predictions))\n",
    "        print(\"Roc Score : \",roc_auc_score(targets,predictions))\n",
    "        self.plot_confusion_matrix(targets,predictions,DataFlag)\n",
    "\n",
    "    #plot confusion matrix\n",
    "    def plot_confusion_matrix(self,targets,predictions,dataFlag):\n",
    "        cm = confusion_matrix(targets, predictions) \n",
    "        plt.figure(figsize=(6, 5))\n",
    "        sns.heatmap(cm, annot=True, fmt='d', cmap='Blues', xticklabels=[\"Survived\", \"Died\"], yticklabels=[\"Survived\", \"Died\"])\n",
    "        plt.xlabel(\"Predicted Label\")\n",
    "        plt.ylabel(\"True Label\")\n",
    "        plt.title(\"Confusion Matrix for {} data\".format(dataFlag))\n",
    "        plt.show()\n",
    "\n"
   ]
  },
  {
   "cell_type": "markdown",
   "metadata": {},
   "source": [
    "### Creating a basic model with default parameters"
   ]
  },
  {
   "cell_type": "code",
   "execution_count": 3,
   "metadata": {},
   "outputs": [
    {
     "name": "stdout",
     "output_type": "stream",
     "text": [
      "Creating a basic KNN model with default parameters\n"
     ]
    }
   ],
   "source": [
    "print(\"Creating a basic KNN model with default parameters\")\n",
    "knn=KNN(K=3)\n",
    "#load training data\n",
    "knn.load_train_data()\n",
    "#train model\n",
    "knn.train()\n",
    "#load validation data\n",
    "knn.load_validation_data()"
   ]
  },
  {
   "cell_type": "code",
   "execution_count": 4,
   "metadata": {},
   "outputs": [
    {
     "name": "stdout",
     "output_type": "stream",
     "text": [
      "Evaluating model on the validation dataset\n",
      "Accuracy:  0.7528089887640449\n",
      "Classification Report: \n",
      "               precision    recall  f1-score   support\n",
      "\n",
      "           0       0.83      0.78      0.80        58\n",
      "           1       0.63      0.71      0.67        31\n",
      "\n",
      "    accuracy                           0.75        89\n",
      "   macro avg       0.73      0.74      0.74        89\n",
      "weighted avg       0.76      0.75      0.76        89\n",
      "\n",
      "Confusion Matrix: \n",
      " [[45 13]\n",
      " [ 9 22]]\n",
      "Roc Score :  0.7427697441601779\n"
     ]
    },
    {
     "data": {
      "image/png": "[encoded data removed]",
      "text/plain": [
       "<Figure size 432x360 with 2 Axes>"
      ]
     },
     "metadata": {
      "needs_background": "light"
     },
     "output_type": "display_data"
    }
   ],
   "source": [
    "#evaluate model on validation data\n",
    "print(\"Evaluating model on the validation dataset\")\n",
    "knn.evaluate(DataFlag=\"Validation\")"
   ]
  },
  {
   "cell_type": "code",
   "execution_count": 5,
   "metadata": {},
   "outputs": [
    {
     "name": "stdout",
     "output_type": "stream",
     "text": [
      "Evaluating model on the test dataset\n",
      "Accuracy:  0.7359550561797753\n",
      "Classification Report: \n",
      "               precision    recall  f1-score   support\n",
      "\n",
      "           0       0.80      0.75      0.78       109\n",
      "           1       0.64      0.71      0.68        69\n",
      "\n",
      "    accuracy                           0.74       178\n",
      "   macro avg       0.72      0.73      0.73       178\n",
      "weighted avg       0.74      0.74      0.74       178\n",
      "\n",
      "Confusion Matrix: \n",
      " [[82 27]\n",
      " [20 49]]\n",
      "Roc Score :  0.7312192527589416\n"
     ]
    },
    {
     "data": {
      "image/png": "[encoded data removed]",
      "text/plain": [
       "<Figure size 432x360 with 2 Axes>"
      ]
     },
     "metadata": {
      "needs_background": "light"
     },
     "output_type": "display_data"
    }
   ],
   "source": [
    "#load test data\n",
    "knn.load_test_data()\n",
    "#evaluate model on test data\n",
    "print(\"Evaluating model on the test dataset\")\n",
    "knn.evaluate(DataFlag=\"Test\")"
   ]
  },
  {
   "cell_type": "markdown",
   "metadata": {},
   "source": [
    "### Performing model tuning to find optimal K"
   ]
  },
  {
   "cell_type": "code",
   "execution_count": 7,
   "metadata": {},
   "outputs": [
    {
     "name": "stdout",
     "output_type": "stream",
     "text": [
      "Applying Grid search to tune the K hyperparameter of the model\n",
      "Fitting 3 folds for each of 300 candidates, totalling 900 fits\n"
     ]
    }
   ],
   "source": [
    "gs=GridSearch(cv=3)\n",
    "bs=BayesianSearch()\n",
    "print(\"Applying Grid search to tune the K hyperparameter of the model\")\n",
    "result_gs=gs.tune_knn(x_train=knn.validation_features,y_train=knn.validation_targets)"
   ]
  },
  {
   "cell_type": "code",
   "execution_count": 8,
   "metadata": {},
   "outputs": [
    {
     "name": "stdout",
     "output_type": "stream",
     "text": [
      "Applying Bayesian search to tune the K hyperparameter of the model\n"
     ]
    }
   ],
   "source": [
    "print(\"Applying Bayesian search to tune the K hyperparameter of the model\")\n",
    "result_bs=bs.tune_knn(x_train=knn.validation_features,y_train=knn.validation_targets)"
   ]
  },
  {
   "cell_type": "code",
   "execution_count": 9,
   "metadata": {},
   "outputs": [
    {
     "name": "stdout",
     "output_type": "stream",
     "text": [
      "Grid Search Results:  (0.786206896551724, {'n_neighbors': 14, 'p': 8, 'weights': 'distance'})\n",
      "Bayesian Search Results:  (0.774712643678161, OrderedDict([('n_neighbors', 1), ('p', 2), ('weights', 'distance')]))\n"
     ]
    }
   ],
   "source": [
    "print(\"Grid Search Results: \",result_gs)\n",
    "print(\"Bayesian Search Results: \",result_bs)"
   ]
  },
  {
   "cell_type": "markdown",
   "metadata": {},
   "source": [
    "### New model with optimal K and checking accuracy on validation and test data"
   ]
  },
  {
   "cell_type": "code",
   "execution_count": 19,
   "metadata": {},
   "outputs": [
    {
     "name": "stdout",
     "output_type": "stream",
     "text": [
      "Creating a new KNN model with the tunned K parameter for max accuracy\n"
     ]
    }
   ],
   "source": [
    "print(\"Creating a new KNN model with the tunned K parameter for max accuracy\")\n",
    "new_knn=KNN(K=14,P=8,weight='distance')\n",
    "new_knn.load_train_data()\n",
    "new_knn.train()\n"
   ]
  },
  {
   "cell_type": "code",
   "execution_count": 20,
   "metadata": {},
   "outputs": [
    {
     "name": "stdout",
     "output_type": "stream",
     "text": [
      "Evaluating optimized model on the validation dataset\n",
      "Accuracy:  0.7528089887640449\n",
      "Classification Report: \n",
      "               precision    recall  f1-score   support\n",
      "\n",
      "           0       0.85      0.76      0.80        58\n",
      "           1       0.62      0.74      0.68        31\n",
      "\n",
      "    accuracy                           0.75        89\n",
      "   macro avg       0.73      0.75      0.74        89\n",
      "weighted avg       0.77      0.75      0.76        89\n",
      "\n",
      "Confusion Matrix: \n",
      " [[44 14]\n",
      " [ 8 23]]\n",
      "Roc Score :  0.7502780867630701\n"
     ]
    },
    {
     "data": {
      "image/png": "[encoded data removed]",
      "text/plain": [
       "<Figure size 432x360 with 2 Axes>"
      ]
     },
     "metadata": {
      "needs_background": "light"
     },
     "output_type": "display_data"
    }
   ],
   "source": [
    "new_knn.load_validation_data()\n",
    "print(\"Evaluating optimized model on the validation dataset\")\n",
    "new_knn.evaluate(DataFlag=\"Validation\")"
   ]
  },
  {
   "cell_type": "code",
   "execution_count": 21,
   "metadata": {},
   "outputs": [
    {
     "name": "stdout",
     "output_type": "stream",
     "text": [
      "Evaluating optimized model on the test dataset\n",
      "Accuracy:  0.7584269662921348\n",
      "Classification Report: \n",
      "               precision    recall  f1-score   support\n",
      "\n",
      "           0       0.78      0.84      0.81       109\n",
      "           1       0.72      0.62      0.67        69\n",
      "\n",
      "    accuracy                           0.76       178\n",
      "   macro avg       0.75      0.73      0.74       178\n",
      "weighted avg       0.76      0.76      0.75       178\n",
      "\n",
      "Confusion Matrix: \n",
      " [[92 17]\n",
      " [26 43]]\n",
      "Roc Score :  0.733612551522404\n"
     ]
    },
    {
     "data": {
      "image/png": "[encoded data removed]",
      "text/plain": [
       "<Figure size 432x360 with 2 Axes>"
      ]
     },
     "metadata": {
      "needs_background": "light"
     },
     "output_type": "display_data"
    }
   ],
   "source": [
    "new_knn.load_test_data()\n",
    "print(\"Evaluating optimized model on the test dataset\")\n",
    "new_knn.evaluate(DataFlag=\"Test\")"
   ]
  }
 ],
 "metadata": {
  "kernelspec": {
   "display_name": "base",
   "language": "python",
   "name": "python3"
  },
  "language_info": {
   "codemirror_mode": {
    "name": "ipython",
    "version": 3
   },
   "file_extension": ".py",
   "mimetype": "text/x-python",
   "name": "python",
   "nbconvert_exporter": "python",
   "pygments_lexer": "ipython3",
   "version": "3.9.7"
  }
 },
 "nbformat": 4,
 "nbformat_minor": 2
}
