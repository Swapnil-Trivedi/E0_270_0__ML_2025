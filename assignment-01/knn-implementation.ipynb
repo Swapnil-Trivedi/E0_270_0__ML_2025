{
 "cells": [
  {
   "cell_type": "code",
   "execution_count": 14,
   "metadata": {},
   "outputs": [],
   "source": [
    "#implementation of the KNN algorithm\n",
    "from sklearn.metrics import accuracy_score\n",
    "from sklearn.neighbors import KNeighborsClassifier\n",
    "from sklearn.metrics import classification_report\n",
    "from sklearn.metrics import confusion_matrix\n",
    "from sklearn.metrics import accuracy_score\n",
    "import matplotlib.pyplot as plt\n",
    "import seaborn as sns\n",
    "#importing the custome data handler\n",
    "from data_handler.data_handler import DataHandler\n",
    "from grid_search import *\n",
    "from bayes_search import *"
   ]
  },
  {
   "cell_type": "markdown",
   "metadata": {},
   "source": [
    "The `KNN` class implements the K-Nearest Neighbors algorithm with methods for \n",
    "data loading, training, prediction, and evaluation. \n",
    "It uses a custom `DataHandler` for managing data and a Scikit-learn KNN model.\n",
    "Key methods include `train()`, `predict()`, `evaluate()`, and `plot_confusion_matrix()`."
   ]
  },
  {
   "cell_type": "code",
   "execution_count": 15,
   "metadata": {},
   "outputs": [],
   "source": [
    "#class for the KNN algorithm\n",
    "class KNN():\n",
    "    def __init__(self,K=3):\n",
    "        self.K=K \n",
    "        self.model = KNeighborsClassifier(n_neighbors=self.K)\n",
    "        self.data_handler = DataHandler()\n",
    "    \n",
    "    #loads the training data from the data handler as features and targets from the cleaned training data\n",
    "    def load_train_data(self):\n",
    "        self.train_features,self.train_targets = self.data_handler.split_data(self.data_handler.train_data)\n",
    "    \n",
    "    #loads the validation data from the data handler as features and targets from the cleaned validation data\n",
    "    def load_validation_data(self):\n",
    "        self.validation_features,self.validation_targets = self.data_handler.split_data(self.data_handler.validation_data)\n",
    "    \n",
    "    #loads the test data from the data handler as features and targets from the cleaned test data\n",
    "    def load_test_data(self):\n",
    "        self.test_features,self.test_targets = self.data_handler.split_data(self.data_handler.test_data)\n",
    "    \n",
    "    #trains the model on the training data\n",
    "    def train(self):\n",
    "        self.model.fit(self.train_features,self.train_targets)\n",
    "    \n",
    "    #predict the target for given features and returns the predicted targets use to predict the test data\n",
    "    def predict(self,features):\n",
    "        return self.model.predict(features)\n",
    "    \n",
    "    #evaluates the model on the validation data\n",
    "    def evaluate(self,DataFlag=\"Validation\"):\n",
    "        if DataFlag==\"Validation\":\n",
    "            features = self.validation_features\n",
    "            targets = self.validation_targets\n",
    "        elif DataFlag==\"Test\":\n",
    "            features = self.test_features\n",
    "            targets = self.test_targets\n",
    "        predictions = self.predict(features)\n",
    "        print(\"Accuracy: \",accuracy_score(targets,predictions))\n",
    "        print(\"Classification Report: \",classification_report(targets,predictions))\n",
    "        print(\"Confusion Matrix: \",confusion_matrix(targets,predictions))\n",
    "        self.plot_confusion_matrix(targets,predictions,DataFlag)\n",
    "\n",
    "    #plot confusion matrix\n",
    "    def plot_confusion_matrix(self,targets,predictions,dataFlag):\n",
    "        cm = confusion_matrix(targets, predictions) \n",
    "        plt.figure(figsize=(6, 5))\n",
    "        sns.heatmap(cm, annot=True, fmt='d', cmap='Blues', xticklabels=[\"Survived\", \"Died\"], yticklabels=[\"Survived\", \"Died\"])\n",
    "        plt.xlabel(\"Predicted Label\")\n",
    "        plt.ylabel(\"True Label\")\n",
    "        plt.title(\"Confusion Matrix for {} data\".format(dataFlag))\n",
    "        plt.show()\n",
    "\n"
   ]
  },
  {
   "cell_type": "markdown",
   "metadata": {},
   "source": [
    "### Creating a basic model with default parameters"
   ]
  },
  {
   "cell_type": "code",
   "execution_count": 16,
   "metadata": {},
   "outputs": [
    {
     "name": "stdout",
     "output_type": "stream",
     "text": [
      "Creating a basic KNN model with default parameters\n"
     ]
    }
   ],
   "source": [
    "print(\"Creating a basic KNN model with default parameters\")\n",
    "knn=KNN(K=3)\n",
    "#load training data\n",
    "knn.load_train_data()\n",
    "#train model\n",
    "knn.train()\n",
    "#load validation data\n",
    "knn.load_validation_data()"
   ]
  },
  {
   "cell_type": "code",
   "execution_count": 17,
   "metadata": {},
   "outputs": [
    {
     "name": "stdout",
     "output_type": "stream",
     "text": [
      "Evaluating model on the validation dataset\n",
      "Accuracy:  0.7752808988764045\n",
      "Classification Report:                precision    recall  f1-score   support\n",
      "\n",
      "           0       0.87      0.78      0.82        58\n",
      "           1       0.65      0.77      0.71        31\n",
      "\n",
      "    accuracy                           0.78        89\n",
      "   macro avg       0.76      0.78      0.76        89\n",
      "weighted avg       0.79      0.78      0.78        89\n",
      "\n",
      "Confusion Matrix:  [[45 13]\n",
      " [ 7 24]]\n"
     ]
    },
    {
     "data": {
      "image/png": "[encoded data removed]",
      "text/plain": [
       "<Figure size 432x360 with 2 Axes>"
      ]
     },
     "metadata": {
      "needs_background": "light"
     },
     "output_type": "display_data"
    }
   ],
   "source": [
    "#evaluate model on validation data\n",
    "print(\"Evaluating model on the validation dataset\")\n",
    "knn.evaluate(DataFlag=\"Validation\")"
   ]
  },
  {
   "cell_type": "code",
   "execution_count": 18,
   "metadata": {},
   "outputs": [
    {
     "name": "stdout",
     "output_type": "stream",
     "text": [
      "Evaluating model on the test dataset\n",
      "Accuracy:  0.7640449438202247\n",
      "Classification Report:                precision    recall  f1-score   support\n",
      "\n",
      "           0       0.81      0.80      0.81       109\n",
      "           1       0.69      0.71      0.70        69\n",
      "\n",
      "    accuracy                           0.76       178\n",
      "   macro avg       0.75      0.75      0.75       178\n",
      "weighted avg       0.77      0.76      0.76       178\n",
      "\n",
      "Confusion Matrix:  [[87 22]\n",
      " [20 49]]\n"
     ]
    },
    {
     "data": {
      "image/png": "[encoded data removed]",
      "text/plain": [
       "<Figure size 432x360 with 2 Axes>"
      ]
     },
     "metadata": {
      "needs_background": "light"
     },
     "output_type": "display_data"
    }
   ],
   "source": [
    "#load test data\n",
    "knn.load_test_data()\n",
    "#evaluate model on test data\n",
    "print(\"Evaluating model on the test dataset\")\n",
    "knn.evaluate(DataFlag=\"Test\")"
   ]
  },
  {
   "cell_type": "markdown",
   "metadata": {},
   "source": [
    "### Performing model tuning to find optimal K"
   ]
  },
  {
   "cell_type": "code",
   "execution_count": 19,
   "metadata": {},
   "outputs": [
    {
     "name": "stdout",
     "output_type": "stream",
     "text": [
      "Applying Grid search to tune the K hyperparameter of the model\n",
      "Trying K=1\n",
      "Trying K=2\n",
      "Trying K=3\n",
      "Trying K=4\n",
      "Trying K=5\n",
      "Trying K=6\n",
      "Trying K=7\n",
      "Trying K=8\n",
      "Trying K=9\n",
      "Trying K=10\n",
      "Trying K=11\n",
      "Trying K=12\n",
      "Trying K=13\n",
      "Trying K=14\n",
      "Trying K=15\n",
      "Trying K=16\n",
      "Trying K=17\n",
      "Trying K=18\n",
      "Trying K=19\n",
      "Trying K=20\n",
      "Trying K=21\n",
      "Trying K=22\n",
      "Trying K=23\n",
      "Trying K=24\n",
      "Trying K=25\n",
      "Trying K=26\n",
      "Trying K=27\n",
      "Trying K=28\n",
      "Trying K=29\n"
     ]
    },
    {
     "data": {
      "image/png": "[encoded data removed]",
      "text/plain": [
       "<Figure size 432x288 with 1 Axes>"
      ]
     },
     "metadata": {
      "needs_background": "light"
     },
     "output_type": "display_data"
    }
   ],
   "source": [
    "gs=GridSearch()\n",
    "bs=BayesianSearch()\n",
    "print(\"Applying Grid search to tune the K hyperparameter of the model\")\n",
    "result_gs=gs.tune_knn(x_train=knn.validation_features,y_train=knn.validation_targets,plot=True)"
   ]
  },
  {
   "cell_type": "code",
   "execution_count": 20,
   "metadata": {},
   "outputs": [
    {
     "name": "stdout",
     "output_type": "stream",
     "text": [
      "Applying Bayesian search to tune the K hyperparameter of the model\n"
     ]
    }
   ],
   "source": [
    "print(\"Applying Bayesian search to tune the K hyperparameter of the model\")\n",
    "result_bs=bs.tune_knn(x_train=knn.validation_features,y_train=knn.validation_targets)"
   ]
  },
  {
   "cell_type": "code",
   "execution_count": 21,
   "metadata": {},
   "outputs": [
    {
     "name": "stdout",
     "output_type": "stream",
     "text": [
      "Grid Search Results:  (12, 0.7856209150326798)\n",
      "Bayesian Search Results:  (12, 0.7856209150326798)\n"
     ]
    }
   ],
   "source": [
    "print(\"Grid Search Results: \",result_gs)\n",
    "print(\"Bayesian Search Results: \",result_bs)"
   ]
  },
  {
   "cell_type": "markdown",
   "metadata": {},
   "source": [
    "### New model with optimal K and checking accuracy on validation and test data"
   ]
  },
  {
   "cell_type": "code",
   "execution_count": 22,
   "metadata": {},
   "outputs": [
    {
     "name": "stdout",
     "output_type": "stream",
     "text": [
      "Creating a new KNN model with the tunned K parameter for max accuracy\n"
     ]
    }
   ],
   "source": [
    "print(\"Creating a new KNN model with the tunned K parameter for max accuracy\")\n",
    "new_knn=KNN(K=12)\n",
    "new_knn.load_train_data()\n",
    "new_knn.train()\n"
   ]
  },
  {
   "cell_type": "code",
   "execution_count": 23,
   "metadata": {},
   "outputs": [
    {
     "name": "stdout",
     "output_type": "stream",
     "text": [
      "Evaluating optimized model on the validation dataset\n",
      "Accuracy:  0.8089887640449438\n",
      "Classification Report:                precision    recall  f1-score   support\n",
      "\n",
      "           0       0.85      0.86      0.85        58\n",
      "           1       0.73      0.71      0.72        31\n",
      "\n",
      "    accuracy                           0.81        89\n",
      "   macro avg       0.79      0.79      0.79        89\n",
      "weighted avg       0.81      0.81      0.81        89\n",
      "\n",
      "Confusion Matrix:  [[50  8]\n",
      " [ 9 22]]\n"
     ]
    },
    {
     "data": {
      "image/png": "[encoded data removed]",
      "text/plain": [
       "<Figure size 432x360 with 2 Axes>"
      ]
     },
     "metadata": {
      "needs_background": "light"
     },
     "output_type": "display_data"
    }
   ],
   "source": [
    "new_knn.load_validation_data()\n",
    "print(\"Evaluating optimized model on the validation dataset\")\n",
    "new_knn.evaluate(DataFlag=\"Validation\")"
   ]
  },
  {
   "cell_type": "code",
   "execution_count": 24,
   "metadata": {},
   "outputs": [
    {
     "name": "stdout",
     "output_type": "stream",
     "text": [
      "Evaluating optimized model on the test dataset\n",
      "Accuracy:  0.7808988764044944\n",
      "Classification Report:                precision    recall  f1-score   support\n",
      "\n",
      "           0       0.79      0.88      0.83       109\n",
      "           1       0.77      0.62      0.69        69\n",
      "\n",
      "    accuracy                           0.78       178\n",
      "   macro avg       0.78      0.75      0.76       178\n",
      "weighted avg       0.78      0.78      0.78       178\n",
      "\n",
      "Confusion Matrix:  [[96 13]\n",
      " [26 43]]\n"
     ]
    },
    {
     "data": {
      "image/png": "[encoded data removed]",
      "text/plain": [
       "<Figure size 432x360 with 2 Axes>"
      ]
     },
     "metadata": {
      "needs_background": "light"
     },
     "output_type": "display_data"
    }
   ],
   "source": [
    "new_knn.load_test_data()\n",
    "print(\"Evaluating optimized model on the test dataset\")\n",
    "new_knn.evaluate(DataFlag=\"Test\")"
   ]
  }
 ],
 "metadata": {
  "kernelspec": {
   "display_name": "base",
   "language": "python",
   "name": "python3"
  },
  "language_info": {
   "codemirror_mode": {
    "name": "ipython",
    "version": 3
   },
   "file_extension": ".py",
   "mimetype": "text/x-python",
   "name": "python",
   "nbconvert_exporter": "python",
   "pygments_lexer": "ipython3",
   "version": "3.9.7"
  }
 },
 "nbformat": 4,
 "nbformat_minor": 2
}
